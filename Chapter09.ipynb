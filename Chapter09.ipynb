{
 "cells": [
  {
   "cell_type": "code",
   "execution_count": 1,
   "id": "98cd10cc-8bb2-48c7-ae2d-d1144bed4557",
   "metadata": {},
   "outputs": [],
   "source": [
    "data = { 'point1': {\n",
    "            'lat': 0,\n",
    "            'long': 0,\n",
    "            'temp': 0 },\n",
    "        'point2': {\n",
    "          'lat': 10,\n",
    "          'long': 10,\n",
    "          'temp': 20 },\n",
    "        'point3' : {\n",
    "          'lat': 0,\n",
    "          'long': 10,\n",
    "          'temp': 10 },\n",
    "        'point4': {\n",
    "          'lat': 10,\n",
    "          'long': 0,\n",
    "          'temp': 30 } \n",
    "}\n"
   ]
  },
  {
   "cell_type": "code",
   "execution_count": 2,
   "id": "171df1f6-b8b2-4711-968a-274b6b26c107",
   "metadata": {},
   "outputs": [
    {
     "data": {
      "text/html": [
       "<div>\n",
       "<style scoped>\n",
       "    .dataframe tbody tr th:only-of-type {\n",
       "        vertical-align: middle;\n",
       "    }\n",
       "\n",
       "    .dataframe tbody tr th {\n",
       "        vertical-align: top;\n",
       "    }\n",
       "\n",
       "    .dataframe thead th {\n",
       "        text-align: right;\n",
       "    }\n",
       "</style>\n",
       "<table border=\"1\" class=\"dataframe\">\n",
       "  <thead>\n",
       "    <tr style=\"text-align: right;\">\n",
       "      <th></th>\n",
       "      <th>lat</th>\n",
       "      <th>long</th>\n",
       "      <th>temp</th>\n",
       "    </tr>\n",
       "  </thead>\n",
       "  <tbody>\n",
       "    <tr>\n",
       "      <th>point1</th>\n",
       "      <td>0</td>\n",
       "      <td>0</td>\n",
       "      <td>0</td>\n",
       "    </tr>\n",
       "    <tr>\n",
       "      <th>point2</th>\n",
       "      <td>10</td>\n",
       "      <td>10</td>\n",
       "      <td>20</td>\n",
       "    </tr>\n",
       "    <tr>\n",
       "      <th>point3</th>\n",
       "      <td>0</td>\n",
       "      <td>10</td>\n",
       "      <td>10</td>\n",
       "    </tr>\n",
       "    <tr>\n",
       "      <th>point4</th>\n",
       "      <td>10</td>\n",
       "      <td>0</td>\n",
       "      <td>30</td>\n",
       "    </tr>\n",
       "  </tbody>\n",
       "</table>\n",
       "</div>"
      ],
      "text/plain": [
       "        lat  long  temp\n",
       "point1    0     0     0\n",
       "point2   10    10    20\n",
       "point3    0    10    10\n",
       "point4   10     0    30"
      ]
     },
     "execution_count": 2,
     "metadata": {},
     "output_type": "execute_result"
    }
   ],
   "source": [
    "import pandas as pd\n",
    "df = pd.DataFrame.from_dict(data, orient='index')\n",
    "df\n"
   ]
  },
  {
   "cell_type": "code",
   "execution_count": 3,
   "id": "f3354fdb-90d9-4ea4-8aaf-c4ffb43a9133",
   "metadata": {},
   "outputs": [
    {
     "name": "stderr",
     "output_type": "stream",
     "text": [
      "c:\\Users\\Administrator\\PycharmProjects\\env_py310\\lib\\site-packages\\geopandas\\_compat.py:112: UserWarning: The Shapely GEOS version (3.10.3-CAPI-1.16.1) is incompatible with the GEOS version PyGEOS was compiled with (3.10.1-CAPI-1.16.0). Conversions between both will be slow.\n",
      "  warnings.warn(\n"
     ]
    },
    {
     "data": {
      "text/plain": [
       "<AxesSubplot:>"
      ]
     },
     "execution_count": 3,
     "metadata": {},
     "output_type": "execute_result"
    },
    {
     "data": {
      "image/png": "[encoded data removed]",
      "text/plain": [
       "<Figure size 640x480 with 1 Axes>"
      ]
     },
     "metadata": {},
     "output_type": "display_data"
    }
   ],
   "source": [
    "import geopandas as gpd\n",
    "from shapely.geometry.point import Point\n",
    "gdf = gpd.GeoDataFrame(df, geometry=[Point(y,x) for x,y in zip(list(df['lat']), list(df['long']))])\n",
    "gdf.plot(markersize=(gdf['temp']+1)*10)\n"
   ]
  },
  {
   "cell_type": "code",
   "execution_count": 4,
   "id": "f468dd75-be5b-4e9b-8466-3c0008ad4464",
   "metadata": {},
   "outputs": [],
   "source": [
    "from scipy.interpolate import interp2d\n",
    "my_interpolation_function = interp2d(df['lat'], df['long'], df['temp'], kind='linear')\n"
   ]
  },
  {
   "cell_type": "code",
   "execution_count": 5,
   "id": "69bf87ac-55ad-487d-9320-b6ae7da70c6f",
   "metadata": {},
   "outputs": [
    {
     "data": {
      "text/html": [
       "<div>\n",
       "<style scoped>\n",
       "    .dataframe tbody tr th:only-of-type {\n",
       "        vertical-align: middle;\n",
       "    }\n",
       "\n",
       "    .dataframe tbody tr th {\n",
       "        vertical-align: top;\n",
       "    }\n",
       "\n",
       "    .dataframe thead th {\n",
       "        text-align: right;\n",
       "    }\n",
       "</style>\n",
       "<table border=\"1\" class=\"dataframe\">\n",
       "  <thead>\n",
       "    <tr style=\"text-align: right;\">\n",
       "      <th></th>\n",
       "      <th>lat</th>\n",
       "      <th>long</th>\n",
       "    </tr>\n",
       "  </thead>\n",
       "  <tbody>\n",
       "    <tr>\n",
       "      <th>point5</th>\n",
       "      <td>0</td>\n",
       "      <td>5</td>\n",
       "    </tr>\n",
       "    <tr>\n",
       "      <th>point6</th>\n",
       "      <td>5</td>\n",
       "      <td>0</td>\n",
       "    </tr>\n",
       "    <tr>\n",
       "      <th>point7</th>\n",
       "      <td>5</td>\n",
       "      <td>5</td>\n",
       "    </tr>\n",
       "    <tr>\n",
       "      <th>point8</th>\n",
       "      <td>5</td>\n",
       "      <td>10</td>\n",
       "    </tr>\n",
       "    <tr>\n",
       "      <th>point9</th>\n",
       "      <td>10</td>\n",
       "      <td>5</td>\n",
       "    </tr>\n",
       "  </tbody>\n",
       "</table>\n",
       "</div>"
      ],
      "text/plain": [
       "        lat  long\n",
       "point5    0     5\n",
       "point6    5     0\n",
       "point7    5     5\n",
       "point8    5    10\n",
       "point9   10     5"
      ]
     },
     "execution_count": 5,
     "metadata": {},
     "output_type": "execute_result"
    }
   ],
   "source": [
    "new_points = {'point5': {'lat': 0, 'long': 5},\n",
    "              'point6': {'lat': 5, 'long': 0},\n",
    "              'point7': {'lat': 5, 'long': 5},\n",
    "              'point8': {'lat': 5, 'long': 10},\n",
    "              'point9': {'lat': 10, 'long': 5}\n",
    "              }\n",
    "new_df = pd.DataFrame.from_dict(new_points, orient='index')\n",
    "new_df\n"
   ]
  },
  {
   "cell_type": "code",
   "execution_count": null,
   "id": "56007ba0-f6db-4b08-bbe0-915a80490d68",
   "metadata": {},
   "outputs": [],
   "source": [
    "interpolated_temps = []\n",
    "for i,row in new_df.iterrows():\n",
    "    interpolated_temps.append(my_interpolation_function(row['lat'], row['long'])[0])\n",
    "\n",
    "new_df['temp'] = interpolated_temps\n",
    "new_df\n"
   ]
  },
  {
   "cell_type": "code",
   "execution_count": null,
   "id": "6fc731a7-7487-4708-958f-05350a82851b",
   "metadata": {},
   "outputs": [],
   "source": [
    "\n",
    "combi_df = pd.concat([df, new_df])\n",
    "gdf = gpd.GeoDataFrame(combi_df, geometry=[Point(y,x) for x,y in zip(list(combi_df['lat']), list(combi_df['long']))])\n",
    "gdf.plot(markersize=(gdf['temp']+1)*10)\n"
   ]
  },
  {
   "cell_type": "code",
   "execution_count": null,
   "id": "3889a44e-7469-4d2e-a3e4-ab954836f120",
   "metadata": {},
   "outputs": [],
   "source": [
    "from pykrige.ok import OrdinaryKriging\n",
    "my_ok = OrdinaryKriging(df['long'], df['lat'], df['temp'])\n",
    "\n",
    "\n",
    "zvalues, sigmasq = my_ok.execute('points', new_df['long'].map(float).values, new_df['lat'].map(float).values)\n",
    "new_df['temp'] = zvalues.data\n",
    "new_df\n"
   ]
  },
  {
   "cell_type": "code",
   "execution_count": null,
   "id": "5ca005a3-3444-469f-bbef-281411f9a966",
   "metadata": {},
   "outputs": [],
   "source": [
    "combi_df = pd.concat([df, new_df])\n",
    "gdf = gpd.GeoDataFrame(combi_df, geometry=[Point(y,x) for x,y in zip(list(combi_df['lat']), list(combi_df['long']))])\n",
    "gdf.plot(markersize=(gdf['temp']+1)*10)\n"
   ]
  },
  {
   "cell_type": "code",
   "execution_count": null,
   "id": "204c2d3f-78d9-452e-91fa-ca28d450b781",
   "metadata": {},
   "outputs": [],
   "source": [
    "my_ok = OrdinaryKriging(df['long'], df['lat'], df['temp'], variogram_model = 'gaussian')\n",
    "\n",
    "zvalues, sigmasq = my_ok.execute('points', new_df['long'].map(float).values, new_df['lat'].map(float).values)\n",
    "new_df['temp'] = zvalues.data\n",
    "new_df\n"
   ]
  },
  {
   "cell_type": "code",
   "execution_count": null,
   "id": "11ff9c95-973f-4bd8-8f49-8c768381ca20",
   "metadata": {},
   "outputs": [],
   "source": [
    "combi_df = pd.concat([df, new_df])\n",
    "gdf = gpd.GeoDataFrame(combi_df, geometry=[Point(y,x) for x,y in zip(list(combi_df['lat']), list(combi_df['long']))])\n",
    "gdf.plot(markersize=(gdf['temp']+1)*10)\n"
   ]
  },
  {
   "cell_type": "code",
   "execution_count": null,
   "id": "7fc5f43a-ed16-4fd7-a7f0-8f7211b73209",
   "metadata": {},
   "outputs": [],
   "source": [
    "my_ok = OrdinaryKriging(df['long'], df['lat'], df['temp'], variogram_model = 'exponential')\n",
    "\n",
    "zvalues, sigmasq = my_ok.execute('points', new_df['long'].map(float).values, new_df['lat'].map(float).values)\n",
    "new_df['temp'] = zvalues.data\n",
    "new_df\n"
   ]
  },
  {
   "cell_type": "code",
   "execution_count": null,
   "id": "fa1cd624-380d-44e7-ac29-518dba1c0b2b",
   "metadata": {},
   "outputs": [],
   "source": [
    "combi_df = pd.concat([df, new_df])\n",
    "gdf = gpd.GeoDataFrame(combi_df, geometry=[Point(y,x) for x,y in zip(list(combi_df['lat']), list(combi_df['long']))])\n",
    "gdf.plot(markersize=(gdf['temp']+1)*10)\n"
   ]
  },
  {
   "cell_type": "code",
   "execution_count": null,
   "id": "6e4e2617-2d57-41dc-8822-671fa9ccb9e0",
   "metadata": {},
   "outputs": [],
   "source": []
  }
 ],
 "metadata": {
  "kernelspec": {
   "display_name": "env_py310",
   "language": "python",
   "name": "env_py310"
  },
  "language_info": {
   "codemirror_mode": {
    "name": "ipython",
    "version": 3
   },
   "file_extension": ".py",
   "mimetype": "text/x-python",
   "name": "python",
   "nbconvert_exporter": "python",
   "pygments_lexer": "ipython3",
   "version": "3.10.6"
  }
 },
 "nbformat": 4,
 "nbformat_minor": 5
}
